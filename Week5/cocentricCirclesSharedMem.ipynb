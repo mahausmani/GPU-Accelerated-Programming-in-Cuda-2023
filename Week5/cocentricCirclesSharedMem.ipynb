{
  "nbformat": 4,
  "nbformat_minor": 0,
  "metadata": {
    "colab": {
      "provenance": [],
      "authorship_tag": "ABX9TyNXEPa/Bm+ZvGwcW/zg6upm",
      "include_colab_link": true
    },
    "kernelspec": {
      "name": "python3",
      "display_name": "Python 3"
    },
    "language_info": {
      "name": "python"
    },
    "gpuClass": "standard"
  },
  "cells": [
    {
      "cell_type": "markdown",
      "metadata": {
        "id": "view-in-github",
        "colab_type": "text"
      },
      "source": [
        "<a href=\"https://colab.research.google.com/github/mu06905/GPU-Accelerated-Programming-in-Cuda-2023/blob/main/Week5/cocentricCirclesSharedMem.ipynb\" target=\"_parent\"><img src=\"https://colab.research.google.com/assets/colab-badge.svg\" alt=\"Open In Colab\"/></a>"
      ]
    },
    {
      "cell_type": "code",
      "execution_count": 1,
      "metadata": {
        "colab": {
          "base_uri": "https://localhost:8080/"
        },
        "id": "QZUl8H8pKJHC",
        "outputId": "fce05352-7884-491e-9510-e3f6f36aa527"
      },
      "outputs": [
        {
          "output_type": "stream",
          "name": "stdout",
          "text": [
            "Looking in indexes: https://pypi.org/simple, https://us-python.pkg.dev/colab-wheels/public/simple/\n",
            "Collecting git+https://github.com/andreinechaev/nvcc4jupyter.git\n",
            "  Cloning https://github.com/andreinechaev/nvcc4jupyter.git to /tmp/pip-req-build-ywwcx499\n",
            "  Running command git clone --filter=blob:none --quiet https://github.com/andreinechaev/nvcc4jupyter.git /tmp/pip-req-build-ywwcx499\n",
            "  Resolved https://github.com/andreinechaev/nvcc4jupyter.git to commit aac710a35f52bb78ab34d2e52517237941399eff\n",
            "  Preparing metadata (setup.py) ... \u001b[?25l\u001b[?25hdone\n",
            "Building wheels for collected packages: NVCCPlugin\n",
            "  Building wheel for NVCCPlugin (setup.py) ... \u001b[?25l\u001b[?25hdone\n",
            "  Created wheel for NVCCPlugin: filename=NVCCPlugin-0.0.2-py3-none-any.whl size=4304 sha256=78d4932e73cd08a08499756b923bbef44a3cb6f7f83c2a5120763e787a6fa6dd\n",
            "  Stored in directory: /tmp/pip-ephem-wheel-cache-ohz5s41k/wheels/f3/08/cc/e2b5b0e1c92df07dbb50a6f024a68ce090f5e7b2316b41756d\n",
            "Successfully built NVCCPlugin\n",
            "Installing collected packages: NVCCPlugin\n",
            "Successfully installed NVCCPlugin-0.0.2\n",
            "created output directory at /content/src\n",
            "Out bin /content/result.out\n"
          ]
        }
      ],
      "source": [
        "!pip install git+https://github.com/andreinechaev/nvcc4jupyter.git\n",
        "%load_ext nvcc_plugin"
      ]
    },
    {
      "cell_type": "code",
      "source": [
        "%%cu \n",
        "#include <stdio.h>\n",
        "#include <cuda.h>\n",
        "\n",
        "const int WIDTH = 512;\n",
        "const int HEIGHT = 512;\n",
        "const int SIZE = WIDTH*HEIGHT;\n",
        "const int IMAGE_SIZE_IN_BYTES = SIZE * sizeof(unsigned char)*4;\n",
        "\n",
        "__global__ void cocentric_circles(unsigned char* pData){\n",
        "    int x = blockIdx.x * blockDim.x + threadIdx.x;\n",
        "    int y = blockIdx.y * blockDim.y + threadIdx.y;\n",
        "\n",
        "    float centerX = (WIDTH)/2;\n",
        "    float centerY = (HEIGHT)/2;\n",
        "\n",
        "    int offset = y * WIDTH + x;\n",
        "\n",
        "    float distance = sqrt((centerX - x) * (centerX - x) + (centerY - y) * (centerY - y));\n",
        "    float value = fmod(distance,20.f);\n",
        "    \n",
        "    int pixelValue = (value<10.0)?255:0;\n",
        "\n",
        "    pData[offset * 4 + 0] = 0;\n",
        "    pData[offset * 4 + 1 ] = pixelValue;\n",
        "    pData[offset * 4 + 2] = 0;\n",
        "    pData[offset * 4 + 3] = 255;\n",
        "    \n",
        "}\n",
        "void save_raw_image(const char* imageName, unsigned char* pData)\n",
        "{\n",
        "\tFILE* fp = fopen(imageName, \"wb\");\n",
        "\tif (fp)\n",
        "\t{\n",
        "\t\tfwrite(pData, 4*sizeof(unsigned char), SIZE, fp);\n",
        "\t\tfclose(fp);\n",
        "\t}\n",
        "\telse\n",
        "\t{\n",
        "\t\tputs(\"Cannot write raw image.\");\n",
        "\t}\n",
        "}\n",
        "int main(){\n",
        "    \n",
        "    unsigned char* h_image = (unsigned char*)malloc(IMAGE_SIZE_IN_BYTES);\n",
        "\n",
        "    unsigned char* d_image;\n",
        "    cudaMalloc(&d_image, IMAGE_SIZE_IN_BYTES);\n",
        "\n",
        "    \n",
        "    dim3 blocksGrid;\n",
        "    dim3 threadsBlock(16,16,1);\n",
        "    blocksGrid.x = ceil(WIDTH/16.0);\n",
        "    blocksGrid.y = ceil(HEIGHT/16.0);\n",
        "\n",
        "\n",
        "    cocentric_circles<<<blocksGrid,threadsBlock>>>(d_image);\n",
        "    printf(\"%f\\n\",ceil( WIDTH/16.0));\n",
        "\n",
        "    cudaMemcpy(h_image,d_image, IMAGE_SIZE_IN_BYTES, cudaMemcpyDeviceToHost);\n",
        "    \n",
        "    save_raw_image(\"/content/OutputImage.raw\", h_image);\n",
        "\n",
        "    cudaFree(d_image);\n",
        "    free(h_image);\n",
        "\n",
        "\n",
        "    return 0;\n",
        "}\n",
        "\n"
      ],
      "metadata": {
        "colab": {
          "base_uri": "https://localhost:8080/"
        },
        "id": "4RXxJ6m7KSsP",
        "outputId": "511633bd-479a-40d5-8581-726d601c11e5"
      },
      "execution_count": 18,
      "outputs": [
        {
          "output_type": "stream",
          "name": "stdout",
          "text": [
            "32.000000\n",
            "\n"
          ]
        }
      ]
    },
    {
      "cell_type": "code",
      "source": [
        "import numpy as np\n",
        "\n",
        "#lets view our image \n",
        "fd = open('/content/OutputImage.raw', 'rb')\n",
        "rows = 512\n",
        "cols = 512\n",
        "f = np.fromfile(fd, dtype=np.uint8,count=rows*cols*4)\n",
        "im = f.reshape((rows, cols, 4)) #notice row, column format\n",
        "fd.close()\n",
        "\n",
        "from google.colab.patches import cv2_imshow\n",
        "#display image using cv2_imshow\n",
        "cv2_imshow(im)"
      ],
      "metadata": {
        "colab": {
          "base_uri": "https://localhost:8080/",
          "height": 529
        },
        "id": "F432M3FIPKUg",
        "outputId": "7f63c237-14e2-48e1-d007-8d5ebc363d25"
      },
      "execution_count": 19,
      "outputs": [
        {
          "output_type": "display_data",
          "data": {
            "text/plain": [
              "<PIL.Image.Image image mode=RGBA size=512x512 at 0x7FAA9F03F3A0>"
            ],
            "image/png": "[encoded data removed]"
          },
          "metadata": {}
        }
      ]
    }
  ]
}