{
  "nbformat": 4,
  "nbformat_minor": 0,
  "metadata": {
    "colab": {
      "provenance": [],
      "include_colab_link": true
    },
    "kernelspec": {
      "name": "python3",
      "display_name": "Python 3"
    },
    "language_info": {
      "name": "python"
    },
    "gpuClass": "standard"
  },
  "cells": [
    {
      "cell_type": "markdown",
      "metadata": {
        "id": "view-in-github",
        "colab_type": "text"
      },
      "source": [
        "<a href=\"https://colab.research.google.com/github/mu06905/GPU-Accelerated-Programming-in-Cuda-2023/blob/main/Week3/mu06905_Assgn1.ipynb\" target=\"_parent\"><img src=\"https://colab.research.google.com/assets/colab-badge.svg\" alt=\"Open In Colab\"/></a>"
      ]
    },
    {
      "cell_type": "markdown",
      "source": [
        "## GPU ACCELERATED PROGRAMMING - ASSIGNMENT\n",
        "\n",
        "Maha Usmani"
      ],
      "metadata": {
        "id": "goQvafWmyrwp"
      }
    },
    {
      "cell_type": "code",
      "execution_count": null,
      "metadata": {
        "colab": {
          "base_uri": "https://localhost:8080/"
        },
        "id": "OB2MY3st-VUm",
        "outputId": "f1ffc9f2-3a24-4123-f936-2d72ca49b514"
      },
      "outputs": [
        {
          "output_type": "stream",
          "name": "stdout",
          "text": [
            "Looking in indexes: https://pypi.org/simple, https://us-python.pkg.dev/colab-wheels/public/simple/\n",
            "Collecting git+https://github.com/andreinechaev/nvcc4jupyter.git\n",
            "  Cloning https://github.com/andreinechaev/nvcc4jupyter.git to /tmp/pip-req-build-9lipb1ol\n",
            "  Running command git clone --filter=blob:none --quiet https://github.com/andreinechaev/nvcc4jupyter.git /tmp/pip-req-build-9lipb1ol\n",
            "  Resolved https://github.com/andreinechaev/nvcc4jupyter.git to commit aac710a35f52bb78ab34d2e52517237941399eff\n",
            "  Preparing metadata (setup.py) ... \u001b[?25l\u001b[?25hdone\n",
            "The nvcc_plugin extension is already loaded. To reload it, use:\n",
            "  %reload_ext nvcc_plugin\n"
          ]
        }
      ],
      "source": [
        "!pip install git+https://github.com/andreinechaev/nvcc4jupyter.git\n",
        "%load_ext nvcc_plugin"
      ]
    },
    {
      "cell_type": "markdown",
      "source": [
        "## **QUESTION 1**\n",
        "\n",
        "We can generate random numbers on the GPU using Both Host and Device APIs. As mentioned in the documentation: by using host API, \"the calls to the library are made in the host code but the actual generation of the random numbers happens on the device\". Howerver, the Host API can also be used to generate numbers on the host by specifying 'host' in the function calls.\n",
        "\n",
        "Written in the Documentaion: \"Note that curandGenerate() in step 4 above launches a kernel and returns asynchronously.\"\n",
        "\n",
        "Reference to Documentation: https://docs.nvidia.com/cuda/curand/host-api-overview.html#host-api-overview\n",
        "\n",
        "From Nvidia's Developer Website: https://developer.nvidia.com/curand#:~:text=cuRAND%20also%20provides%20two%20flexible,kernels%20running%20on%20the%20GPU.\n",
        "\n",
        "Flexible usage model: 1) Host API for generating random numbers in bulk on the GPU 2) Inline implementation allows use inside GPU functions/kernels, or in your host code"
      ],
      "metadata": {
        "id": "WZ9m4LkwbMKM"
      }
    },
    {
      "cell_type": "code",
      "source": [
        "%%cuda --name my_curand.cu \n",
        "#include <stdio.h>\n",
        "#include <cuda_runtime.h>\n",
        "#include <curand.h>\n",
        "\n",
        "#define CUDA_CALL(x) do { if((x)!=cudaSuccess) { \\\n",
        "    printf(\"Error at %s:%d\\n\",__FILE__,__LINE__);\\\n",
        "    return EXIT_FAILURE;}} while(0)\n",
        "#define CURAND_CALL(x) do { if((x)!=CURAND_STATUS_SUCCESS) { \\\n",
        "    printf(\"Error at %s:%d\\n\",__FILE__,__LINE__);\\\n",
        "    return EXIT_FAILURE;}} while(0)\n",
        "\n",
        "inline cudaError_t checkCudaErr(cudaError_t err, const char* msg) {\n",
        "  if (err != cudaSuccess) {\n",
        "    fprintf(stderr, \"CUDA Runtime error at %s: %s\\n\", msg, cudaGetErrorString(err));\n",
        "  }\n",
        "  return err;\n",
        "}\n",
        " \n",
        "int main()\n",
        "{\n",
        "  const int N = 1000000;  \n",
        "  \n",
        "  float* h_data = (float*)malloc(N * sizeof(float));\n",
        "  int start_h = clock();\n",
        "  for(int i=0;i<N;i++)\n",
        "      h_data[i]=rand()%N;\n",
        "  int end = clock();\n",
        "  int time_taken = end - start_h;\n",
        "  printf(\"Time taken to populate data on host is %d ms \\n\",time_taken);\n",
        "\n",
        "  cudaEvent_t start, stop;\n",
        "  cudaEventCreate(&start);\n",
        "  cudaEventCreate(&stop);\n",
        "  float* d_data;\n",
        "  curandGenerator_t gen;\n",
        "  CUDA_CALL(cudaMalloc((void **)&d_data, N*sizeof(float)));\n",
        "  CURAND_CALL(curandCreateGenerator(&gen, CURAND_RNG_PSEUDO_DEFAULT));\n",
        "  CURAND_CALL(curandSetPseudoRandomGeneratorSeed(gen, 1234ULL));\n",
        "  cudaEventRecord(start);\n",
        "  CURAND_CALL(curandGenerateUniform(gen, d_data, N));\n",
        "  cudaEventRecord(stop);\n",
        "  cudaEventSynchronize(stop);\n",
        "  float milliseconds = 0;\n",
        "  cudaEventElapsedTime(&milliseconds, start, stop);\n",
        "  printf(\"Time taken to populate data on device is %f ms \\n\",milliseconds);\n",
        "  start_h = clock();\n",
        "  CUDA_CALL(cudaMemcpy(h_data, d_data, N * sizeof(float), cudaMemcpyDeviceToHost));\n",
        "  end = clock();\n",
        "  time_taken = end - start_h;\n",
        "  printf(\"time taken to copy data from gpu to cpu is: %i ms \\n\",time_taken);\n",
        "\n",
        "  \n",
        "  free(h_data);  //deallocate memory on device\n",
        "  CURAND_CALL(curandDestroyGenerator(gen));\n",
        "  CUDA_CALL(cudaFree(d_data));\n",
        "\n",
        "\n",
        "  return 0;\n",
        "}"
      ],
      "metadata": {
        "id": "2IIfnW6Xas3g",
        "colab": {
          "base_uri": "https://localhost:8080/",
          "height": 35
        },
        "outputId": "967c548d-394c-4993-dc1a-6cd1f5bbb8b7"
      },
      "execution_count": null,
      "outputs": [
        {
          "output_type": "execute_result",
          "data": {
            "text/plain": [
              "'File written in /content/src/my_curand.cu'"
            ],
            "application/vnd.google.colaboratory.intrinsic+json": {
              "type": "string"
            }
          },
          "metadata": {},
          "execution_count": 13
        }
      ]
    },
    {
      "cell_type": "code",
      "source": [
        "!nvcc -o /content/src/my_curand /content/src/my_curand.cu -lcurand"
      ],
      "metadata": {
        "id": "Cl4HjjTnat04"
      },
      "execution_count": null,
      "outputs": []
    },
    {
      "cell_type": "code",
      "source": [
        "!/content/src/my_curand"
      ],
      "metadata": {
        "id": "qnrOpgFHauYj",
        "colab": {
          "base_uri": "https://localhost:8080/"
        },
        "outputId": "fd62f070-237b-48ed-b463-edc88a007054"
      },
      "execution_count": null,
      "outputs": [
        {
          "output_type": "stream",
          "name": "stdout",
          "text": [
            "Time taken to populate data on host is 10022 ms \n",
            "Time taken to populate data on device is 0.460800 ms \n",
            "time taken to copy data from gpu to cpu is: 877 ms \n"
          ]
        }
      ]
    },
    {
      "cell_type": "markdown",
      "source": [
        "## QUESTION 2 \n",
        "\n",
        "\n",
        "reference:\n",
        "https://github.com/CoffeeBeforeArch/cuda_programming/blob/master/03_sum_reduction/bank_conflicts/sumReduction.cu\n",
        "\n",
        "The parallel reduction logic is taken from the above mentioned source.\n",
        "Details:\n",
        "Each block contains 250 threads and number of blocks are launched depending on the length of input array using formula: N/250\n",
        "Inside each kernel function, data from global memory is copied into shared memory which is of size 250. thread sync function is used which waits for each thread to write data in shared memory and helps to prevent race condition. \n",
        "On each iteration of the for loop, the number of threads are halved and the stride is multiplied by two. On first iteration, 125 threads will be launched which will add every alternate element of the array in current position. Index would be of sequence 0,2,4,.. 124. Hence after first iteration, we'll get an array in shared memory whose alternating indices (0,2,4 ..124) will be the sum of every pair of elements from the global array. \n",
        "\n",
        "After the for loop is executed, the first element of every array in shared memory would contain the sum of 250 elements of the global array. We launch the kernel again to sum over these arrays\n"
      ],
      "metadata": {
        "id": "6Sxj3uIYVEdZ"
      }
    },
    {
      "cell_type": "code",
      "source": [
        "%%cu\n",
        "#include <stdio.h>\n",
        "#include \"cuda_runtime.h\"\n",
        "\n",
        "inline cudaError_t checkCudaErr(cudaError_t err, const char* msg) {\n",
        "  if (err != cudaSuccess) {\n",
        "    fprintf(stderr, \"CUDA Runtime error at %s: %s\\n\", msg, cudaGetErrorString(err));\n",
        "  }\n",
        "  return err;\n",
        "}\n",
        "//shared memory size\n",
        "#define SHMEM_SIZE 1000\n",
        "\n",
        "__global__ void sumReduction(int *v, int *v_r) {\n",
        "  // Allocate shared memory\n",
        "  __shared__ int partial_sum[SHMEM_SIZE];\n",
        "\n",
        "  // Calculate thread ID\n",
        "  int tid = blockIdx.x * blockDim.x + threadIdx.x;\n",
        "\n",
        "  // Load elements into shared memory\n",
        "  \n",
        "    partial_sum[threadIdx.x] = v[tid];\n",
        "  \n",
        "  __syncthreads();\n",
        "\n",
        "  // Increase the stride of the access until we exceed the CTA dimensions\n",
        "  for (int s = 1; s < blockDim.x; s *= 2) {\n",
        "      \n",
        "\n",
        "        // Change the indexing to be sequential threads\n",
        "        int index = 2 * s * threadIdx.x;\n",
        "\n",
        "        // Each thread does work unless the index goes off the block\n",
        "        if (index < blockDim.x) {\n",
        "        partial_sum[index] += partial_sum[index + s];\n",
        "        }\n",
        "      \n",
        "    __syncthreads();\n",
        "  }\n",
        "\n",
        "  // Let the thread 0 for this block write its result to main memory\n",
        "  // Result is indexed by this block\n",
        "  if (threadIdx.x == 0) {\n",
        "    v_r[blockIdx.x] = partial_sum[0];\n",
        "  }\n",
        "}\n",
        "\n",
        "int main() {\n",
        "  // Vector size\n",
        "  const int N = 100000;\n",
        "  int* initial_host_data = 0;\n",
        "  int* final_host_data = 0;\n",
        "\n",
        "\n",
        "  int size = N * sizeof(int);\n",
        "  initial_host_data = (int*)malloc(N*sizeof(int));\n",
        "  final_host_data = (int*)malloc(N*sizeof(int));\n",
        "  for(int i = 0; i<N;i++){\n",
        "      initial_host_data[i] = 1;\n",
        "      final_host_data[i] = 0;\n",
        "  }\n",
        "  int start = clock() ;\n",
        "  int sum = 0;\n",
        "  for(int i = 0;i<N;i++){\n",
        "      sum+=initial_host_data[i];\n",
        "  }\n",
        "  int time_d = clock() - start;\n",
        "  printf(\"sum on host %d\\n\", sum);\n",
        "  printf(\"time on cpu is: %d ms\\n\", time_d);\n",
        "  int *initial_device_data, *final_device_data;\n",
        "  checkCudaErr(cudaMalloc((void**)&initial_device_data, size),\"malloc\");\n",
        "  checkCudaErr(cudaMalloc((void**)&final_device_data, size),\"malloc\");\n",
        "\n",
        "  // Copy to device hv to dv\n",
        "  checkCudaErr(cudaMemcpy(initial_device_data, initial_host_data, size, cudaMemcpyHostToDevice),\"mem copy\");\n",
        "  checkCudaErr(cudaMemcpy(final_device_data, final_host_data, size, cudaMemcpyHostToDevice),\"mem copy\");\n",
        "\n",
        "  // TB Size\n",
        "  const int TB_SIZE = 400;\n",
        "\n",
        "  // Grid Size (No padding)\n",
        "  int GRID_SIZE = N / TB_SIZE;\n",
        "\n",
        "  cudaEvent_t start_d, stop_d;\n",
        "\tcudaEventCreate(&start_d);\n",
        "\tcudaEventCreate(&stop_d);\n",
        "  // Call kernels\n",
        "  cudaEventRecord(start_d);\n",
        "  sumReduction<<<GRID_SIZE, TB_SIZE>>>(initial_device_data, final_device_data);\n",
        "\n",
        "  sumReduction<<<1, TB_SIZE>>>(final_device_data, final_device_data);\n",
        "  cudaEventRecord(stop_d);\n",
        "  cudaEventSynchronize(stop_d);\n",
        "\tfloat dt = 0;\n",
        "  cudaEventElapsedTime(&dt, start_d, stop_d);\n",
        "  printf(\"Total time on GPU: %f ms\\n\", dt);\n",
        "  // Copy to host;\n",
        "  checkCudaErr(cudaMemcpy(final_host_data, final_device_data, size, cudaMemcpyDeviceToHost),\"mem copy\");\n",
        "\n",
        " printf(\"sum on gpu = %d\", final_host_data[0]);\n",
        "\n",
        "  //delete data allocated on device\n",
        "\tcudaFree(initial_device_data);\n",
        "  cudaFree(final_device_data);\n",
        "\n",
        "\n",
        "\t//delete host memory\n",
        "\tfree(initial_host_data);\n",
        "  free(final_host_data);\n",
        "\tcudaDeviceReset();\n",
        "\n",
        "  return 0;\n",
        "}"
      ],
      "metadata": {
        "colab": {
          "base_uri": "https://localhost:8080/"
        },
        "id": "IUzgeJdkBiAn",
        "outputId": "dff8c5ec-094c-4e44-93b2-5be5eb9de06b"
      },
      "execution_count": null,
      "outputs": [
        {
          "output_type": "stream",
          "name": "stdout",
          "text": [
            "sum on host 100000\n",
            "time on cpu is: 215 ms\n",
            "Total time on GPU: 0.045664 ms\n",
            "sum on gpu = 100000\n"
          ]
        }
      ]
    },
    {
      "cell_type": "code",
      "source": [
        "import matplotlib.pyplot as plt"
      ],
      "metadata": {
        "id": "EjZ8EeqE7BLt"
      },
      "execution_count": null,
      "outputs": []
    },
    {
      "cell_type": "markdown",
      "source": [
        "The following cell shows the cpu runtime of algorithm an different datasets\n"
      ],
      "metadata": {
        "id": "KLJmrXyfcVcj"
      }
    },
    {
      "cell_type": "code",
      "source": [
        "left_coordinates=[1,2,3,4]\n",
        "heights = [1,3,25,216]\n",
        "bar_labels=['100','1000','10000','100000']\n",
        "plt.title(\"CPU\")\n",
        "plt.bar(left_coordinates,heights,tick_label=bar_labels,width=0.6)\n",
        "plt.show()"
      ],
      "metadata": {
        "colab": {
          "base_uri": "https://localhost:8080/",
          "height": 281
        },
        "id": "qpE55P1Q_C0Z",
        "outputId": "6b674634-c378-4ddc-a4ab-97a12634fd01"
      },
      "execution_count": null,
      "outputs": [
        {
          "output_type": "display_data",
          "data": {
            "text/plain": [
              "<Figure size 432x288 with 1 Axes>"
            ],
            "image/png": "[encoded data removed]"
          },
          "metadata": {
            "needs_background": "light"
          }
        }
      ]
    },
    {
      "cell_type": "markdown",
      "source": [
        "the following three cells shows the gpu runtime of 1000,10000, 100000 element array against different configurations"
      ],
      "metadata": {
        "id": "89eIY2gIcfDL"
      }
    },
    {
      "cell_type": "code",
      "source": [
        "left_coordinates=[1,2,3]\n",
        "# heights = [0.040704,0.034464,0.032736]\n",
        "heights = [0.045120,0.034656,0.032800][::-1]\n",
        "bar_labels=['<100,1000>','<250,400>','<200,500>'][::-1]\n",
        "plt.title(\"100000 data sets\")\n",
        "plt.bar(left_coordinates,heights,tick_label=bar_labels,width=0.6)\n",
        "plt.show()"
      ],
      "metadata": {
        "colab": {
          "base_uri": "https://localhost:8080/",
          "height": 281
        },
        "id": "lcRvnzj89iPM",
        "outputId": "8fac2016-412e-476f-ca88-4454ef5ca493"
      },
      "execution_count": null,
      "outputs": [
        {
          "output_type": "display_data",
          "data": {
            "text/plain": [
              "<Figure size 432x288 with 1 Axes>"
            ],
            "image/png": "[encoded data removed]"
          },
          "metadata": {
            "needs_background": "light"
          }
        }
      ]
    },
    {
      "cell_type": "code",
      "source": [
        "left_coordinates=[1,2,3,4]\n",
        "heights=[0.024576,0.027424,0.028864,0.038752]\n",
        "bar_labels=['<100,100>','<40,250>','<20,500>','<10,1000>']\n",
        "plt.title(\"10000 data sets\")\n",
        "plt.bar(left_coordinates,heights,tick_label=bar_labels,width=0.6)\n",
        "plt.show()\n"
      ],
      "metadata": {
        "colab": {
          "base_uri": "https://localhost:8080/",
          "height": 281
        },
        "id": "YQH_qJAn3-rC",
        "outputId": "af0807ef-39d7-4623-e9e9-3d1938222a20"
      },
      "execution_count": null,
      "outputs": [
        {
          "output_type": "display_data",
          "data": {
            "text/plain": [
              "<Figure size 432x288 with 1 Axes>"
            ],
            "image/png": "[encoded data removed]"
          },
          "metadata": {
            "needs_background": "light"
          }
        }
      ]
    },
    {
      "cell_type": "code",
      "source": [
        "left_coordinates=[1,2,3,4]\n",
        "heights=[0.026656, 0.026848, 0.030144,0.034304]\n",
        "bar_labels=['<10,100>','<4,250>','<2,500>','<1,1000>']\n",
        "plt.title(\"1000 data sets\")\n",
        "plt.bar(left_coordinates,heights,tick_label=bar_labels,width=0.6)\n",
        "plt.show()"
      ],
      "metadata": {
        "colab": {
          "base_uri": "https://localhost:8080/",
          "height": 281
        },
        "id": "dEYSSC3u8XQl",
        "outputId": "799e5be4-1b9b-4339-dede-45509271330a"
      },
      "execution_count": null,
      "outputs": [
        {
          "output_type": "display_data",
          "data": {
            "text/plain": [
              "<Figure size 432x288 with 1 Axes>"
            ],
            "image/png": "[encoded data removed]"
          },
          "metadata": {
            "needs_background": "light"
          }
        }
      ]
    },
    {
      "cell_type": "markdown",
      "source": [
        "# ALTERNATE APPROACH OF QUESTION 2"
      ],
      "metadata": {
        "id": "gDjAGaFc2cM1"
      }
    },
    {
      "cell_type": "markdown",
      "source": [
        "This appeoach uses atomic add and handles error checking"
      ],
      "metadata": {
        "id": "FvdZSaFx2miD"
      }
    },
    {
      "cell_type": "code",
      "source": [
        "%%cu\n",
        "#include <stdio.h>\n",
        "#include <time.h>\n",
        "\n",
        "#define CUDA_CALL(x) do { if((x)!=cudaSuccess) { \\\n",
        "    printf(\"Error at %s:%d\\n\",__FILE__,__LINE__);\\\n",
        "    return EXIT_FAILURE;}} while(0)\n",
        "#define CURAND_CALL(x) do { if((x)!=CURAND_STATUS_SUCCESS) { \\\n",
        "    printf(\"Error at %s:%d\\n\",__FILE__,__LINE__);\\\n",
        "    return EXIT_FAILURE;}} while(0)\n",
        "\n",
        "inline cudaError_t checkCudaErr(cudaError_t err, const char* msg) {\n",
        "  if (err != cudaSuccess) {\n",
        "    fprintf(stderr, \"CUDA Runtime error at %s: %s\\n\", msg, cudaGetErrorString(err));\n",
        "  }\n",
        "  return err;\n",
        "}\n",
        "__global__ void sum_device(int* a, int* sum, const int N) {\n",
        "\tint i = threadIdx.x + blockDim.x * blockIdx.x;\n",
        "\tif (i<N)\n",
        "\t\tatomicAdd(sum,a[i]);\t\n",
        "\t//else \n",
        "\t//\tprintf(\"i > N -> %3d in block: %d\\n\", i, blockIdx.x);\n",
        "}\n",
        "\n",
        "void sum_host(int* a, int* sum, const int N) {\n",
        "  clock_t clk;\n",
        "\n",
        "\tclk = clock();\n",
        "\n",
        "\tfor(int i=0; i<N; ++i)\n",
        "\t  *sum += a[i];\n",
        "\n",
        "\tclk = clock() - clk;\n",
        "\tprintf(\"Total time on CPU: %d ms\\n\", clk);\n",
        "\n",
        "}\n",
        "\n",
        "\n",
        "int main() { \n",
        "\tint* h_a = 0;\n",
        "\tint sum = 0;\n",
        "  int* sum_d = 0;\n",
        "\t\n",
        "\tint* d_a = 0;\n",
        "\tint* d_sum;\n",
        "\n",
        "\tconst long int N = 1000; \n",
        "\tint numThreadsPerBlock =  1000;\n",
        "\tint numBlocksPerGrid = ceilf(N/numThreadsPerBlock);\n",
        "\tprintf(\"Num threads per block: %3d\\n\", numThreadsPerBlock);\n",
        "\tprintf(\"Num blocks per grid: %3d\\n\", numBlocksPerGrid);\n",
        "\n",
        "\tsize_t size = N * sizeof(int);\n",
        "\n",
        "\t//allocate host memory\n",
        "\th_a = (int*)malloc(size);\t \n",
        "\n",
        "\t//initialize a\n",
        "\tfor(int i=0;i<N;++i) {\n",
        "\t\th_a[i] = 1;\n",
        "\t}\n",
        "\t//calculate on host \n",
        "\tsum_host(h_a, &sum, N); \n",
        "\tprintf(\"Sum host: %d\\n\", sum); \n",
        "\n",
        "  cudaEvent_t start, stop;\n",
        "\tcudaEventCreate(&start);\n",
        "\tcudaEventCreate(&stop);\n",
        "\n",
        "\t//allocate device memory \n",
        "\tcheckCudaErr(cudaMalloc((void**)&d_a, size),\"cudamalloc\");\n",
        "  checkCudaErr(cudaMalloc(&d_sum, sizeof(int)),\"cudamalloc\");\n",
        "\t\n",
        "\t//copy host data to device memory\n",
        "\tcheckCudaErr(cudaMemcpy(d_a, h_a, size, cudaMemcpyHostToDevice),\"cudamemcopy\"); \n",
        "\n",
        "\n",
        "\tcheckCudaErr(cudaEventRecord(start),\"event start\");\n",
        "\tsum_device<<<numBlocksPerGrid, numThreadsPerBlock>>>(d_a, d_sum, N);\n",
        "\tCUDA_CALL(cudaDeviceSynchronize());\n",
        "  checkCudaErr(cudaEventSynchronize(stop),\"event synchronize\");\n",
        "\n",
        "  \n",
        "\n",
        "\tcudaEventRecord(stop);\n",
        "\t//copy result from device to host\n",
        "\tcheckCudaErr(cudaMemcpy(&sum_d, d_sum, sizeof(int), cudaMemcpyDeviceToHost),\"cuda memcopy\");\n",
        "  cudaEventSynchronize(stop);\n",
        "\tfloat dt = 0;\n",
        "  ;\n",
        "\n",
        "\n",
        "  printf(\"Sum (device): %d\\n\",sum_d);\n",
        "\n",
        " \n",
        "\tcheckCudaErr(cudaEventElapsedTime(&dt, start, stop),\"cuda elapsed time\");\n",
        "\tprintf(\"Total time on GPU: %f msecs\\n\", dt);\n",
        "\n",
        "\t//delete data allocated on device\n",
        "\tcudaFree(d_a);\n",
        "\n",
        "\t//delete host memory\n",
        "\tfree(h_a);\n",
        "\n",
        "\tcudaDeviceReset();\n",
        "\treturn 0;\n",
        "}"
      ],
      "metadata": {
        "id": "aQ_J9AcQ2XAi",
        "outputId": "571bdc7f-808f-4aaf-c8e6-a16f3b0c31f0",
        "colab": {
          "base_uri": "https://localhost:8080/"
        }
      },
      "execution_count": null,
      "outputs": [
        {
          "output_type": "stream",
          "name": "stdout",
          "text": [
            "Num threads per block: 1000\n",
            "Num blocks per grid:   1\n",
            "Total time on CPU: 4 ms\n",
            "Sum host: 1000\n",
            "Sum (device): 1000\n",
            "Total time on GPU: 0.026784 msecs\n",
            "\n"
          ]
        }
      ]
    }
  ]
}