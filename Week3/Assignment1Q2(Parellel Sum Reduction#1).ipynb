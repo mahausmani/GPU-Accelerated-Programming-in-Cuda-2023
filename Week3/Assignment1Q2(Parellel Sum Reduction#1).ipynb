{
  "nbformat": 4,
  "nbformat_minor": 0,
  "metadata": {
    "colab": {
      "provenance": [],
      "include_colab_link": true
    },
    "kernelspec": {
      "name": "python3",
      "display_name": "Python 3"
    },
    "language_info": {
      "name": "python"
    },
    "gpuClass": "standard"
  },
  "cells": [
    {
      "cell_type": "markdown",
      "metadata": {
        "id": "view-in-github",
        "colab_type": "text"
      },
      "source": [
        "<a href=\"https://colab.research.google.com/github/mu06905/GPU-Accelerated-Programming-in-Cuda-2023/blob/main/Week3/Assignment1Q2(Parellel%20Sum%20Reduction%231).ipynb\" target=\"_parent\"><img src=\"https://colab.research.google.com/assets/colab-badge.svg\" alt=\"Open In Colab\"/></a>"
      ]
    },
    {
      "cell_type": "code",
      "execution_count": 1,
      "metadata": {
        "colab": {
          "base_uri": "https://localhost:8080/"
        },
        "id": "OB2MY3st-VUm",
        "outputId": "ee83bcc9-e473-437d-fcc0-c91007b23509"
      },
      "outputs": [
        {
          "output_type": "stream",
          "name": "stdout",
          "text": [
            "Looking in indexes: https://pypi.org/simple, https://us-python.pkg.dev/colab-wheels/public/simple/\n",
            "Collecting git+https://github.com/andreinechaev/nvcc4jupyter.git\n",
            "  Cloning https://github.com/andreinechaev/nvcc4jupyter.git to /tmp/pip-req-build-fxwvptj8\n",
            "  Running command git clone --filter=blob:none --quiet https://github.com/andreinechaev/nvcc4jupyter.git /tmp/pip-req-build-fxwvptj8\n",
            "  Resolved https://github.com/andreinechaev/nvcc4jupyter.git to commit aac710a35f52bb78ab34d2e52517237941399eff\n",
            "  Preparing metadata (setup.py) ... \u001b[?25l\u001b[?25hdone\n",
            "Building wheels for collected packages: NVCCPlugin\n",
            "  Building wheel for NVCCPlugin (setup.py) ... \u001b[?25l\u001b[?25hdone\n",
            "  Created wheel for NVCCPlugin: filename=NVCCPlugin-0.0.2-py3-none-any.whl size=4304 sha256=669a376e81f0edac6655211939e7bf49c3884fd0dc60ef1f27fa53e34dfa7d2b\n",
            "  Stored in directory: /tmp/pip-ephem-wheel-cache-pwzl32y1/wheels/f3/08/cc/e2b5b0e1c92df07dbb50a6f024a68ce090f5e7b2316b41756d\n",
            "Successfully built NVCCPlugin\n",
            "Installing collected packages: NVCCPlugin\n",
            "Successfully installed NVCCPlugin-0.0.2\n",
            "created output directory at /content/src\n",
            "Out bin /content/result.out\n"
          ]
        }
      ],
      "source": [
        "!pip install git+https://github.com/andreinechaev/nvcc4jupyter.git\n",
        "%load_ext nvcc_plugin"
      ]
    },
    {
      "cell_type": "markdown",
      "source": [
        "reference:\n",
        "https://github.com/CoffeeBeforeArch/cuda_programming/blob/master/03_sum_reduction/bank_conflicts/sumReduction.cu\n",
        "\n",
        "The parallel reduction logic is taken from the above mentioned source.\n",
        "Details:\n",
        "Each block contains 250 threads and number of blocks are launched depending on the length of input array using formula: N/250\n",
        "Inside each kernel function, data from global memory is copied into shared memory which is of size 250. thread sync function is used which waits for each thread to write data in shared memory and helps to prevent race condition. \n",
        "On each iteration of the for loop, the number of threads are halved and the stride is multiplied by two. On first iteration, 125 threads will be launched which will add every alternate element of the array in current position. Index would be of sequence 0,2,4,.. 124. Hence after first iteration, we'll get an array in shared memory whose alternating indices (0,2,4 ..124) will be the sum of every pair of elements from the global array. \n",
        "\n",
        "After the for loop is executed, the first element of every array in shared memory would contain the sum of 250 elements of the global array. We launch the kernel again to sum over these arrays\n"
      ],
      "metadata": {
        "id": "6Sxj3uIYVEdZ"
      }
    },
    {
      "cell_type": "code",
      "source": [
        "%%cu\n",
        "#include <stdio.h>\n",
        "#include \"cuda_runtime.h\"\n",
        "\n",
        "//shared memory size\n",
        "#define SHMEM_SIZE 1000\n",
        "\n",
        "__global__ void sumReduction(int *v, int *v_r) {\n",
        "  // Allocate shared memory\n",
        "  __shared__ int partial_sum[SHMEM_SIZE];\n",
        "\n",
        "  // Calculate thread ID\n",
        "  int tid = blockIdx.x * blockDim.x + threadIdx.x;\n",
        "\n",
        "  // Load elements into shared memory\n",
        "  \n",
        "    partial_sum[threadIdx.x] = v[tid];\n",
        "  \n",
        "  __syncthreads();\n",
        "\n",
        "  // Increase the stride of the access until we exceed the CTA dimensions\n",
        "  for (int s = 1; s < blockDim.x; s *= 2) {\n",
        "      \n",
        "\n",
        "        // Change the indexing to be sequential threads\n",
        "        int index = 2 * s * threadIdx.x;\n",
        "\n",
        "        // Each thread does work unless the index goes off the block\n",
        "        if (index < blockDim.x) {\n",
        "        partial_sum[index] += partial_sum[index + s];\n",
        "        }\n",
        "      \n",
        "    __syncthreads();\n",
        "  }\n",
        "\n",
        "  // Let the thread 0 for this block write its result to main memory\n",
        "  // Result is indexed by this block\n",
        "  if (threadIdx.x == 0) {\n",
        "    v_r[blockIdx.x] = partial_sum[0];\n",
        "  }\n",
        "}\n",
        "\n",
        "int main() {\n",
        "  // Vector size\n",
        "  const int N = 10000;\n",
        "  int* initial_host_data = 0;\n",
        "  int* final_host_data = 0;\n",
        "\n",
        "\n",
        "  int size = N * sizeof(int);\n",
        "  initial_host_data = (int*)malloc(N*sizeof(int));\n",
        "  final_host_data = (int*)malloc(N*sizeof(int));\n",
        "  for(int i = 0; i<N;i++){\n",
        "      initial_host_data[i] = i+1;\n",
        "      final_host_data[i] = 0;\n",
        "  }\n",
        "  int start = clock() ;\n",
        "  int sum = 0;\n",
        "  for(int i = 0;i<N;i++){\n",
        "      sum+=initial_host_data[i];\n",
        "  }\n",
        "  int time_d = clock() - start;\n",
        "  printf(\"sum on host %d\\n\", sum);\n",
        "  printf(\"time on cpu is: %d ms\\n\", time_d);\n",
        "  int *initial_device_data, *final_device_data;\n",
        "  cudaMalloc((void**)&initial_device_data, size);\n",
        "  cudaMalloc((void**)&final_device_data, size);\n",
        "\n",
        "  // Copy to device hv to dv\n",
        "  cudaMemcpy(initial_device_data, initial_host_data, size, cudaMemcpyHostToDevice);\n",
        "  cudaMemcpy(final_device_data, final_host_data, size, cudaMemcpyHostToDevice);\n",
        "\n",
        "  // TB Size\n",
        "  const int TB_SIZE = 1000;\n",
        "\n",
        "  // Grid Size (No padding)\n",
        "  int GRID_SIZE = N / TB_SIZE;\n",
        "\n",
        "  cudaEvent_t start_d, stop_d;\n",
        "\tcudaEventCreate(&start_d);\n",
        "\tcudaEventCreate(&stop_d);\n",
        "  // Call kernels\n",
        "  cudaEventRecord(start_d);\n",
        "  sumReduction<<<GRID_SIZE, TB_SIZE>>>(initial_device_data, final_device_data);\n",
        "\n",
        "  sumReduction<<<1, TB_SIZE>>>(final_device_data, final_device_data);\n",
        "  cudaEventRecord(stop_d);\n",
        "  cudaEventSynchronize(stop_d);\n",
        "\tfloat dt = 0;\n",
        "  cudaEventElapsedTime(&dt, start_d, stop_d);\n",
        "  printf(\"Total time on GPU: %f ms\\n\", dt);\n",
        "  // Copy to host;\n",
        "  cudaMemcpy(final_host_data, final_device_data, size, cudaMemcpyDeviceToHost);\n",
        "\n",
        " printf(\"result = %d\", final_host_data[0]);\n",
        "\n",
        "  return 0;\n",
        "}"
      ],
      "metadata": {
        "colab": {
          "base_uri": "https://localhost:8080/"
        },
        "id": "IUzgeJdkBiAn",
        "outputId": "90616f2f-9967-4aad-b3f2-b865c6113cc3"
      },
      "execution_count": 80,
      "outputs": [
        {
          "output_type": "stream",
          "name": "stdout",
          "text": [
            "sum on host 50005000\n",
            "time on cpu is: 22 ms\n",
            "Total time on GPU: 0.047136 ms\n",
            "result = 50005000\n"
          ]
        }
      ]
    },
    {
      "cell_type": "code",
      "source": [
        "import matplotlib.pyplot as plt"
      ],
      "metadata": {
        "id": "EjZ8EeqE7BLt"
      },
      "execution_count": 75,
      "outputs": []
    },
    {
      "cell_type": "code",
      "source": [
        "left_coordinates=[1,2,3,4]\n",
        "heights = [1,3,25,240]\n",
        "bar_labels=['100','1000','10000','100000']\n",
        "plt.title(\"CPU\")\n",
        "plt.bar(left_coordinates,heights,tick_label=bar_labels,width=0.6)\n",
        "plt.show()"
      ],
      "metadata": {
        "id": "qpE55P1Q_C0Z",
        "outputId": "087c0051-35e5-4c0e-d116-5ee51f7a25e5",
        "colab": {
          "base_uri": "https://localhost:8080/",
          "height": 281
        }
      },
      "execution_count": 81,
      "outputs": [
        {
          "output_type": "display_data",
          "data": {
            "text/plain": [
              "<Figure size 432x288 with 1 Axes>"
            ],
            "image/png": "[encoded data removed]"
          },
          "metadata": {
            "needs_background": "light"
          }
        }
      ]
    },
    {
      "cell_type": "code",
      "source": [
        "left_coordinates=[1,2,3]\n",
        "heights = [0.040224,0.034464,0.032736]\n",
        "bar_labels=['<1000,100>','<400,250>','<200,500>']\n",
        "plt.title(\"1000 data sets\")\n",
        "plt.bar(left_coordinates,heights,tick_label=bar_labels,width=0.6)\n",
        "plt.show()"
      ],
      "metadata": {
        "id": "lcRvnzj89iPM",
        "outputId": "476f1dc8-5c77-484a-e4cb-f305cbd52018",
        "colab": {
          "base_uri": "https://localhost:8080/",
          "height": 281
        }
      },
      "execution_count": 77,
      "outputs": [
        {
          "output_type": "display_data",
          "data": {
            "text/plain": [
              "<Figure size 432x288 with 1 Axes>"
            ],
            "image/png": "[encoded data removed]"
          },
          "metadata": {
            "needs_background": "light"
          }
        }
      ]
    },
    {
      "cell_type": "code",
      "source": [
        "left_coordinates=[1,2,3,4]\n",
        "heights=[0.024576,0.027424,0.028864,0.038752]\n",
        "bar_labels=['<100,100>','<40,250>','<20,500>','<10,1000>']\n",
        "plt.title(\"10000 data sets\")\n",
        "plt.bar(left_coordinates,heights,tick_label=bar_labels,width=0.6)\n",
        "plt.show()\n"
      ],
      "metadata": {
        "id": "YQH_qJAn3-rC",
        "outputId": "4939f80b-cb7b-43cd-f285-8358961a7802",
        "colab": {
          "base_uri": "https://localhost:8080/",
          "height": 281
        }
      },
      "execution_count": 65,
      "outputs": [
        {
          "output_type": "display_data",
          "data": {
            "text/plain": [
              "<Figure size 432x288 with 1 Axes>"
            ],
            "image/png": "[encoded data removed]"
          },
          "metadata": {
            "needs_background": "light"
          }
        }
      ]
    },
    {
      "cell_type": "code",
      "source": [
        "left_coordinates=[1,2,3,4]\n",
        "heights=[0.026656, 0.026848, 0.030144,0.034304]\n",
        "bar_labels=['<10,100>','<4,250>','<2,500>','<1,1000>']\n",
        "plt.title(\"1000 data sets\")\n",
        "plt.bar(left_coordinates,heights,tick_label=bar_labels,width=0.6)\n",
        "plt.show()"
      ],
      "metadata": {
        "id": "dEYSSC3u8XQl",
        "outputId": "92cc927b-9beb-4462-d4c6-8443d71d6eb3",
        "colab": {
          "base_uri": "https://localhost:8080/",
          "height": 281
        }
      },
      "execution_count": 82,
      "outputs": [
        {
          "output_type": "display_data",
          "data": {
            "text/plain": [
              "<Figure size 432x288 with 1 Axes>"
            ],
            "image/png": "[encoded data removed]"
          },
          "metadata": {
            "needs_background": "light"
          }
        }
      ]
    }
  ]
}