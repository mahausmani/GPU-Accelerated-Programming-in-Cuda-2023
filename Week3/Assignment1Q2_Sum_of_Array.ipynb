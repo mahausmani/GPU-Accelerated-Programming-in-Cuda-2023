{
  "nbformat": 4,
  "nbformat_minor": 0,
  "metadata": {
    "colab": {
      "provenance": [],
      "include_colab_link": true
    },
    "kernelspec": {
      "name": "python3",
      "display_name": "Python 3"
    },
    "language_info": {
      "name": "python"
    },
    "accelerator": "GPU",
    "gpuClass": "standard"
  },
  "cells": [
    {
      "cell_type": "markdown",
      "metadata": {
        "id": "view-in-github",
        "colab_type": "text"
      },
      "source": [
        "<a href=\"https://colab.research.google.com/github/mu06905/GPU-Accelerated-Programming-in-Cuda-2023/blob/main/Week3/Assignment1Q2_Sum_of_Array.ipynb\" target=\"_parent\"><img src=\"https://colab.research.google.com/assets/colab-badge.svg\" alt=\"Open In Colab\"/></a>"
      ]
    },
    {
      "cell_type": "code",
      "execution_count": 2,
      "metadata": {
        "colab": {
          "base_uri": "https://localhost:8080/"
        },
        "id": "OB2MY3st-VUm",
        "outputId": "38accc08-d2e9-4e5b-a12f-a102f2f9ce47"
      },
      "outputs": [
        {
          "output_type": "stream",
          "name": "stdout",
          "text": [
            "Looking in indexes: https://pypi.org/simple, https://us-python.pkg.dev/colab-wheels/public/simple/\n",
            "Collecting git+https://github.com/andreinechaev/nvcc4jupyter.git\n",
            "  Cloning https://github.com/andreinechaev/nvcc4jupyter.git to /tmp/pip-req-build-x_1xdw2o\n",
            "  Running command git clone --filter=blob:none --quiet https://github.com/andreinechaev/nvcc4jupyter.git /tmp/pip-req-build-x_1xdw2o\n",
            "  Resolved https://github.com/andreinechaev/nvcc4jupyter.git to commit aac710a35f52bb78ab34d2e52517237941399eff\n",
            "  Preparing metadata (setup.py) ... \u001b[?25l\u001b[?25hdone\n",
            "Building wheels for collected packages: NVCCPlugin\n",
            "  Building wheel for NVCCPlugin (setup.py) ... \u001b[?25l\u001b[?25hdone\n",
            "  Created wheel for NVCCPlugin: filename=NVCCPlugin-0.0.2-py3-none-any.whl size=4304 sha256=7d4c5816d2dfedcfc3b119bac26744cb375d3c61d955414b83cfa9f2658cb2d0\n",
            "  Stored in directory: /tmp/pip-ephem-wheel-cache-n7im3tp7/wheels/f3/08/cc/e2b5b0e1c92df07dbb50a6f024a68ce090f5e7b2316b41756d\n",
            "Successfully built NVCCPlugin\n",
            "Installing collected packages: NVCCPlugin\n",
            "Successfully installed NVCCPlugin-0.0.2\n",
            "created output directory at /content/src\n",
            "Out bin /content/result.out\n"
          ]
        }
      ],
      "source": [
        "!pip install git+https://github.com/andreinechaev/nvcc4jupyter.git\n",
        "%load_ext nvcc_plugin"
      ]
    },
    {
      "cell_type": "code",
      "source": [
        "%%cu\n",
        "#include <stdio.h>\n",
        "#include <time.h>\n",
        "\n",
        "#define CUDA_CALL(x) do { if((x)!=cudaSuccess) { \\\n",
        "    printf(\"Error at %s:%d\\n\",__FILE__,__LINE__);\\\n",
        "    return EXIT_FAILURE;}} while(0)\n",
        "#define CURAND_CALL(x) do { if((x)!=CURAND_STATUS_SUCCESS) { \\\n",
        "    printf(\"Error at %s:%d\\n\",__FILE__,__LINE__);\\\n",
        "    return EXIT_FAILURE;}} while(0)\n",
        "\n",
        "inline cudaError_t checkCudaErr(cudaError_t err, const char* msg) {\n",
        "  if (err != cudaSuccess) {\n",
        "    fprintf(stderr, \"CUDA Runtime error at %s: %s\\n\", msg, cudaGetErrorString(err));\n",
        "  }\n",
        "  return err;\n",
        "}\n",
        "__global__ void sum_device(int* a, int* sum, const int N) {\n",
        "\tint i = threadIdx.x + blockDim.x * blockIdx.x;\n",
        "\tif (i<N)\n",
        "\t\t(*sum) += a[i];\t\n",
        "\t//else \n",
        "\t//\tprintf(\"i > N -> %3d in block: %d\\n\", i, blockIdx.x);\n",
        "}\n",
        "//this is an incorrect implementation of the task as each thread accesses the shared variable *sum at the same\n",
        "//time resulting in race condition that is why the result on the gpu is not correct\n",
        "//todo: figure out why differnt execution configurations give different results\n",
        "void sum_host(int* a, int* sum, const int N) {\n",
        "  clock_t clk;\n",
        "\n",
        "\tclk = clock();\n",
        "\tfor(int i=0; i<N; ++i)\n",
        "\t  *sum += a[i];\n",
        "\n",
        "\tclk = clock() - clk;\n",
        "\tdouble dt = (((double)clk) / CLOCKS_PER_SEC) * 1000;\n",
        "\tprintf(\"Total time on CPU: %f msecs\\n\", dt);\n",
        "\n",
        "}\n",
        "\n",
        "\n",
        "int main() { \n",
        "\tint* h_a = 0;\n",
        "\tint sum = 0;\n",
        "  int* sum_d = 0;\n",
        "\t\n",
        "\tint* d_a = 0;\n",
        "\tint* d_sum;\n",
        "\n",
        "\tconst int N = 1000; \n",
        "\tint numThreadsPerBlock =  128;\n",
        "\tint numBlocksPerGrid = ceilf(N/numThreadsPerBlock + 1);\n",
        "\tprintf(\"Num threads per block: %3d\\n\", numThreadsPerBlock);\n",
        "\tprintf(\"Num blocks per grid: %3d\\n\", numBlocksPerGrid);\n",
        "\n",
        "\tsize_t size = N * sizeof(int);\n",
        "\n",
        "\t//allocate host memory\n",
        "\th_a = (int*)malloc(size);\t \n",
        "\n",
        "\t//initialize a\n",
        "\tfor(int i=0;i<N;++i) {\n",
        "\t\th_a[i] = i+1;\n",
        "\t}\n",
        "\t//calculate on host \n",
        "\tsum_host(h_a, &sum, N); \n",
        "\tprintf(\"Sum host: %d\\n\", sum); \n",
        "\n",
        "  cudaEvent_t start, stop;\n",
        "\tcudaEventCreate(&start);\n",
        "\tcudaEventCreate(&stop);\n",
        "\n",
        "\t//allocate device memory \n",
        "\tcheckCudaErr(cudaMalloc((void**)&d_a, size),\"cudamalloc\");\n",
        "  checkCudaErr(cudaMalloc(&d_sum, sizeof(int)),\"cudamalloc\");\n",
        "\t\n",
        "\t//copy host data to device memory\n",
        "\tcheckCudaErr(cudaMemcpy(d_a, h_a, size, cudaMemcpyHostToDevice),\"cudamemcopy\"); \n",
        "\n",
        "\n",
        "\tcheckCudaErr(cudaEventRecord(start),\"event start\");\n",
        "\tsum_device<<<numBlocksPerGrid, numThreadsPerBlock>>>(d_a, d_sum, N);\n",
        "\tCUDA_CALL(cudaDeviceSynchronize());\n",
        "  checkCudaErr(cudaEventSynchronize(stop),\"event synchronize\");\n",
        "\n",
        "  \n",
        "\n",
        "\t//copy result from device to host\n",
        "\tcheckCudaErr(cudaMemcpy(&sum_d, d_sum, sizeof(int), cudaMemcpyDeviceToHost),\"cuda memcopy\");\n",
        "\tcheckCudaErr(cudaEventRecord(stop),\"event stop\");\n",
        "\n",
        "\n",
        "  printf(\"Sum (device): %d\\n\",sum_d);\n",
        "\n",
        " \n",
        " \tfloat dt = 0;\n",
        "\tcheckCudaErr(cudaEventElapsedTime(&dt, start, stop),\"cuda elapsed time\");\n",
        "\tprintf(\"Total time on GPU: %f msecs\\n\", dt);\n",
        "\n",
        "\t//delete data allocated on device\n",
        "\tcudaFree(d_a);\n",
        "\n",
        "\t//delete host memory\n",
        "\tfree(h_a);\n",
        "\n",
        "\tcudaDeviceReset();\n",
        "\treturn 0;\n",
        "}"
      ],
      "metadata": {
        "colab": {
          "base_uri": "https://localhost:8080/"
        },
        "id": "5eMQJTOOO6Jh",
        "outputId": "93bdac47-62db-45d0-872f-28c8a8ed98aa"
      },
      "execution_count": 3,
      "outputs": [
        {
          "output_type": "stream",
          "name": "stdout",
          "text": [
            "CUDA Runtime error at cuda elapsed time: device not ready\n",
            "Num threads per block: 128\n",
            "Num blocks per grid:   8\n",
            "Total time on CPU: 0.004000 msecs\n",
            "Sum host: 500500\n",
            "Sum (device): 609\n",
            "Total time on GPU: 0.000000 msecs\n",
            "\n"
          ]
        }
      ]
    }
  ]
}